{
 "cells": [
  {
   "cell_type": "markdown",
   "metadata": {},
   "source": [
    "# CHALLENGE LATAM - ANDRES TIQUE SUAREZ\n",
    "En este archivo puedes escribir lo que estimes conveniente. Te recomendamos detallar tu solución y todas las suposiciones que estás considerando. Aquí puedes ejecutar las funciones que definiste en los otros archivos de la carpeta src, medir el tiempo, memoria, etc.\n"
   ]
  },
  {
   "cell_type": "markdown",
   "metadata": {},
   "source": [
    "##### Definicion de Las Librerias y Modulos Usados para el Challenge:\n",
    "1. **DataProcessor**: Clase Contenedora Funciones Del Challenge\n",
    "2. **ReadMetadata**: Funcion encargada de leer metadata del archivo .yaml\n",
    "3. **qn_memory**:  Funciones encargadas de optimizar el consumo de recursos en memoria.\n",
    "4. **qn_time**: Funciones encargardas optimizar el tiempo de ejecucion de cada punto del desafio."
   ]
  },
  {
   "cell_type": "code",
   "execution_count": 1,
   "metadata": {},
   "outputs": [],
   "source": [
    "from packages.DataProcessor import DataProcessor\n",
    "from packages.ReadMetadata import read_metadata\n",
    "from Parte_I.q1_memory  import q1_memory\n",
    "from Parte_I.q1_time    import q1_time\n",
    "from Parte_II.q2_memory  import q2_memory\n",
    "from Parte_II.q2_time    import q2_time\n",
    "from Parte_III.q3_memory  import q3_memory\n",
    "from Parte_III.q3_time    import q3_time"
   ]
  },
  {
   "cell_type": "markdown",
   "metadata": {},
   "source": [
    "##### Funcion encargada de leer el archivo que contiene la metadata para la ejecucion y funcionamiento del proceso **read_metadata** importada del modulo *ReadMetadata*\n",
    "* Parametros de entrada de la funcion: \n",
    "\n",
    "    + RutaArchivoVariablesProceso -- Type: str"
   ]
  },
  {
   "cell_type": "code",
   "execution_count": 2,
   "metadata": {},
   "outputs": [],
   "source": [
    "#Nombre del archivo a procesar\n",
    "RutaArchivoVariablesProceso = 'VariablesProceso.yaml'\n",
    "\n",
    "dict_variables_proceso = read_metadata(RutaArchivoVariablesProceso)\n",
    "\n",
    "#Variable Global para todas las funciones.\n",
    "ruta_archivo = dict_variables_proceso['RutaArchivo']\n",
    "\n",
    "# Inicializador clase principal\n",
    "data_procesor = DataProcessor(ruta_archivo)"
   ]
  },
  {
   "cell_type": "markdown",
   "metadata": {},
   "source": [
    "#####-----------------------------------------------------------------------------------####\n",
    "####\n",
    "PARTE I\n",
    "---------\n",
    "Uso de los modulos o dependecias importados para la ejecucion de la parte 1:\n",
    "\n",
    "Descripcion:\n",
    "\n",
    " * ***q1_memory*** :  Funcion encargada de ejecutar el proceso optimizando la memoria.\n",
    "\n",
    " * ***q1_time***   :  Funcion encargada de ejecutar el proceso optimizado en tiempos.\n",
    "\n",
    "####\n",
    "#####-----------------------------------------------------------------------------------####"
   ]
  },
  {
   "cell_type": "markdown",
   "metadata": {},
   "source": [
    " * **Llamado funcion de optimización de tiempo**"
   ]
  },
  {
   "cell_type": "code",
   "execution_count": 3,
   "metadata": {},
   "outputs": [
    {
     "name": "stdout",
     "output_type": "stream",
     "text": [
      "Duracion : 0.30356502532958984 --\n"
     ]
    },
    {
     "data": {
      "text/plain": [
       "[(datetime.date(2021, 2, 12), 'RanbirS00614606'),\n",
       " (datetime.date(2021, 2, 13), 'MaanDee08215437'),\n",
       " (datetime.date(2021, 2, 14), 'rebelpacifist'),\n",
       " (datetime.date(2021, 2, 15), 'jot__b'),\n",
       " (datetime.date(2021, 2, 16), 'jot__b'),\n",
       " (datetime.date(2021, 2, 17), 'RaaJVinderkaur'),\n",
       " (datetime.date(2021, 2, 18), 'neetuanjle_nitu'),\n",
       " (datetime.date(2021, 2, 19), 'Preetm91'),\n",
       " (datetime.date(2021, 2, 20), 'MangalJ23056160'),\n",
       " (datetime.date(2021, 2, 23), 'Surrypuria')]"
      ]
     },
     "execution_count": 3,
     "metadata": {},
     "output_type": "execute_result"
    }
   ],
   "source": [
    "q1_time(data_procesor)"
   ]
  },
  {
   "cell_type": "markdown",
   "metadata": {},
   "source": [
    "* **Llamado funcion de optimización de memoria**"
   ]
  },
  {
   "cell_type": "code",
   "execution_count": 4,
   "metadata": {},
   "outputs": [
    {
     "name": "stdout",
     "output_type": "stream",
     "text": [
      "Duracion : 4.6669981479644775 --\n"
     ]
    },
    {
     "data": {
      "text/plain": [
       "[(datetime.date(2021, 2, 12), 'RanbirS00614606'),\n",
       " (datetime.date(2021, 2, 13), 'MaanDee08215437'),\n",
       " (datetime.date(2021, 2, 17), 'RaaJVinderkaur'),\n",
       " (datetime.date(2021, 2, 16), 'jot__b'),\n",
       " (datetime.date(2021, 2, 14), 'rebelpacifist'),\n",
       " (datetime.date(2021, 2, 18), 'neetuanjle_nitu'),\n",
       " (datetime.date(2021, 2, 15), 'jot__b'),\n",
       " (datetime.date(2021, 2, 20), 'MangalJ23056160'),\n",
       " (datetime.date(2021, 2, 23), 'Surrypuria'),\n",
       " (datetime.date(2021, 2, 19), 'Preetm91')]"
      ]
     },
     "execution_count": 4,
     "metadata": {},
     "output_type": "execute_result"
    }
   ],
   "source": [
    "q1_memory(data_procesor)"
   ]
  },
  {
   "cell_type": "markdown",
   "metadata": {
    "tags": []
   },
   "source": [
    "#####-----------------------------------------------------------------------------------####\n",
    "####\n",
    "PARTE II\n",
    "---------\n",
    "Uso de los modulos o dependecias importados para la ejecucion de la parte 2:\n",
    "\n",
    "Descripcion:\n",
    "\n",
    " * ***q2_memory*** :  Funcion encargada de ejecutar el proceso optimizando la memoria.\n",
    "\n",
    " * ***q2_time***   :  Funcion encargada de ejecutar el proceso optimizado en tiempos.\n",
    "\n",
    "####\n",
    "#####-----------------------------------------------------------------------------------####"
   ]
  },
  {
   "cell_type": "markdown",
   "metadata": {},
   "source": [
    " * **Llamado funcion de optimización de tiempo**"
   ]
  },
  {
   "cell_type": "code",
   "execution_count": 5,
   "metadata": {},
   "outputs": [
    {
     "name": "stdout",
     "output_type": "stream",
     "text": [
      "Duracion : 1.1885008811950684 --\n"
     ]
    },
    {
     "data": {
      "text/plain": [
       "[('🙏', 7286),\n",
       " ('😂', 3072),\n",
       " ('🚜', 2972),\n",
       " ('✊', 2411),\n",
       " ('🌾', 2363),\n",
       " ('🏻', 2080),\n",
       " ('❤', 1779),\n",
       " ('🤣', 1668),\n",
       " ('🏽', 1218),\n",
       " ('👇', 1108)]"
      ]
     },
     "execution_count": 5,
     "metadata": {},
     "output_type": "execute_result"
    }
   ],
   "source": [
    "q2_time(data_procesor)"
   ]
  },
  {
   "cell_type": "markdown",
   "metadata": {},
   "source": [
    "* **Llamado funcion de optimización de memoria**"
   ]
  },
  {
   "cell_type": "code",
   "execution_count": 6,
   "metadata": {},
   "outputs": [
    {
     "name": "stdout",
     "output_type": "stream",
     "text": [
      "Duracion : 5.745993375778198 --\n"
     ]
    },
    {
     "data": {
      "text/plain": [
       "[('🙏', 7286),\n",
       " ('😂', 3072),\n",
       " ('🚜', 2972),\n",
       " ('✊', 2411),\n",
       " ('🌾', 2363),\n",
       " ('🏻', 2080),\n",
       " ('❤', 1779),\n",
       " ('🤣', 1668),\n",
       " ('🏽', 1218),\n",
       " ('👇', 1108)]"
      ]
     },
     "execution_count": 6,
     "metadata": {},
     "output_type": "execute_result"
    }
   ],
   "source": [
    "q2_memory(data_procesor)"
   ]
  },
  {
   "cell_type": "markdown",
   "metadata": {},
   "source": [
    "* Llamado funcion Procesamiento de datos basado en el 2 requerimiento."
   ]
  },
  {
   "cell_type": "markdown",
   "metadata": {},
   "source": [
    "#####-----------------------------------------------------------------------------------####\n",
    "####\n",
    "PARTE III\n",
    "---------\n",
    "IMPORTACIÓN DE DEPENDENCIAS O LIBRERIAS QUE SE REQUIEREN PARA LA PRIMERA PARTE DEL PROCESO:\n",
    "\n",
    "Descripcion:\n",
    "\n",
    " * ***q3_memory*** :  Funcion encargada de evidenciar el consumo del proceso en memoria.\n",
    "\n",
    " * ***q3_time*** :  Funcion encargada de evidenciar el tiempo tomado por cada archivo o linea del la funcion principal\n",
    "\n",
    " * ***read_data_part3***: Funcion encargada de realizar el procesamiento de los datos y retornar el resultado.\n",
    "\n",
    "####\n",
    "#####-----------------------------------------------------------------------------------####"
   ]
  },
  {
   "cell_type": "markdown",
   "metadata": {},
   "source": [
    "* Llamado funcion tiempo (S)."
   ]
  },
  {
   "cell_type": "code",
   "execution_count": null,
   "metadata": {},
   "outputs": [],
   "source": [
    "q3_time(ruta_archivo, llave_primaria, llave_secundaria) "
   ]
  },
  {
   "cell_type": "markdown",
   "metadata": {},
   "source": [
    "* Llamado funcion recursos (Memoria)."
   ]
  },
  {
   "cell_type": "code",
   "execution_count": null,
   "metadata": {},
   "outputs": [],
   "source": [
    "q3_memory(ruta_archivo, llave_primaria, llave_secundaria)"
   ]
  },
  {
   "cell_type": "markdown",
   "metadata": {},
   "source": [
    "* Llamado funcion Procesamiento de datos basado en el 2 requerimiento."
   ]
  },
  {
   "cell_type": "code",
   "execution_count": null,
   "metadata": {},
   "outputs": [],
   "source": [
    "data_procesor.read_data_part3_memory(ruta_archivo, llave_primaria, llave_secundaria)"
   ]
  },
  {
   "cell_type": "code",
   "execution_count": null,
   "metadata": {},
   "outputs": [],
   "source": [
    "data_procesor.read_data_part3_time()"
   ]
  }
 ],
 "metadata": {
  "kernelspec": {
   "display_name": "Python 3",
   "language": "python",
   "name": "python3"
  },
  "language_info": {
   "codemirror_mode": {
    "name": "ipython",
    "version": 3
   },
   "file_extension": ".py",
   "mimetype": "text/x-python",
   "name": "python",
   "nbconvert_exporter": "python",
   "pygments_lexer": "ipython3",
   "version": "3.12.2"
  },
  "orig_nbformat": 4
 },
 "nbformat": 4,
 "nbformat_minor": 2
}
