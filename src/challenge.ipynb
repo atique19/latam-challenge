{
 "cells": [
  {
   "cell_type": "markdown",
   "metadata": {},
   "source": [
    "# CHALLENGE LATAM - ANDRES TIQUE SUAREZ\n",
    "En este archivo puedes escribir lo que estimes conveniente. Te recomendamos detallar tu solución y todas las suposiciones que estás considerando. Aquí puedes ejecutar las funciones que definiste en los otros archivos de la carpeta src, medir el tiempo, memoria, etc.\n"
   ]
  },
  {
   "cell_type": "markdown",
   "metadata": {},
   "source": [
    "##### Definicion de Las Librerias y Modulos Usados para el Challenge:\n",
    "1. **DataProcessor**: Clase contenedora de funciones de procesamiento del challenge.\n",
    "2. **ReadMetadata**: Funcion encargada de leer metadata del archivo .yaml\n",
    "3. **qn_memory**:  Funciones encargadas de optimizar el consumo de recursos en memoria.\n",
    "4. **qn_time**: Funciones encargardas optimizar el tiempo de ejecucion de cada punto del desafio."
   ]
  },
  {
   "cell_type": "code",
   "execution_count": 1,
   "metadata": {},
   "outputs": [],
   "source": [
    "from packages.data_processor import DataProcessor\n",
    "from packages.handler_files import FileHandler\n",
    "from Parte_I.q1_memory  import q1_memory\n",
    "from Parte_I.q1_time    import q1_time\n",
    "from Parte_II.q2_memory  import q2_memory\n",
    "from Parte_II.q2_time    import q2_time\n",
    "from Parte_III.q3_memory  import q3_memory\n",
    "from Parte_III.q3_time    import q3_time"
   ]
  },
  {
   "cell_type": "markdown",
   "metadata": {},
   "source": [
    "##### Funcion encargada de leer el archivo que contiene la metadata para la ejecucion y funcionamiento del proceso **read_metadata** importada del modulo *ReadMetadata*\n",
    "* Parametros de entrada de la funcion: \n",
    "\n",
    "    + RutaArchivoVariablesProceso -- Type: str"
   ]
  },
  {
   "cell_type": "code",
   "execution_count": 2,
   "metadata": {},
   "outputs": [],
   "source": [
    "#Nombre del archivo a procesar\n",
    "RutaArchivoVariablesProceso = 'VariablesProceso.yaml'\n",
    "file_handler = FileHandler()\n",
    "dict_variables_proceso = file_handler.read_metadata(RutaArchivoVariablesProceso)\n",
    "\n",
    "#Variable Global para todas las funciones.\n",
    "ruta_archivo = dict_variables_proceso['ruta_archivo']\n",
    "ruta_archivo_zip = dict_variables_proceso['ruta_zip']\n",
    "ruta_destino = dict_variables_proceso['ruta_destino']\n"
   ]
  },
  {
   "cell_type": "code",
   "execution_count": 3,
   "metadata": {},
   "outputs": [],
   "source": [
    "# Validacion Existencia del archivo insumo\n",
    "if not file_handler.check_file_json(ruta_archivo):\n",
    "    file_handler.unzip_file(ruta_archivo_zip, ruta_destino)"
   ]
  },
  {
   "cell_type": "code",
   "execution_count": 4,
   "metadata": {},
   "outputs": [],
   "source": [
    "# Inicializador clase principal\n",
    "data_procesor = DataProcessor(ruta_archivo)"
   ]
  },
  {
   "cell_type": "markdown",
   "metadata": {},
   "source": [
    "#####-----------------------------------------------------------------------------------####\n",
    "####\n",
    "PARTE I\n",
    "---------\n",
    "Uso de los modulos o dependecias importados para la ejecucion de la parte 1:\n",
    "\n",
    "Descripcion:\n",
    "\n",
    " * ***q1_memory*** :  Funcion encargada de ejecutar el proceso optimizando la memoria.\n",
    "\n",
    " * ***q1_time***   :  Funcion encargada de ejecutar el proceso optimizado en tiempos.\n",
    "\n",
    "####\n",
    "#####-----------------------------------------------------------------------------------####"
   ]
  },
  {
   "cell_type": "markdown",
   "metadata": {},
   "source": [
    " * **Llamado funcion de optimización de tiempo**"
   ]
  },
  {
   "cell_type": "code",
   "execution_count": 5,
   "metadata": {},
   "outputs": [
    {
     "name": "stdout",
     "output_type": "stream",
     "text": [
      "Duracion : 0.49602174758911133 --\n",
      "Filename: c:\\Users\\andre\\Documents\\latam-challenge\\src\\Parte_I\\q1_time.py\n",
      "\n",
      "Line #    Mem usage    Increment  Occurrences   Line Contents\n",
      "=============================================================\n",
      "     9   1392.0 MiB   1392.0 MiB           1   @profile\n",
      "    10                                         def q1_time(data_procesor: DataProcessor) -> List[Tuple[datetime.date, str]]:\n",
      "    11                                             \"\"\"\n",
      "    12                                             Procesa los datos del archivo especificado utilizando el metodo \n",
      "    13                                             (procces_data_1_time) de la clase (DataProcessor).\n",
      "    14                                         \n",
      "    15                                             Args:\n",
      "    16                                                 ruta_archivo (str): Ruta al archivo JSON que contiene los datos a procesar.\n",
      "    17                                         \n",
      "    18                                             Returns:\n",
      "    19                                                 List[Tuple[datetime.date, str]]: Una lista de tuplas.\n",
      "    20                                         \n",
      "    21                                             \"\"\"\n",
      "    22                                         \n",
      "    23   1392.0 MiB      0.0 MiB           1       tiempo_inicial = time()  # Registrar el tiempo inicial antes de procesar los datos\n",
      "    24   1398.0 MiB      6.1 MiB           1       resultado = data_procesor.procces_data_1_time() # Llamar al metodo para procesar los datos\n",
      "    25   1398.0 MiB      0.0 MiB           1       data_procesor.determinate_duration(tiempo_inicial) # Medir y mostrar el tiempo de procesamiento\n",
      "    26                                          \n",
      "    27   1398.0 MiB      0.0 MiB           1       return resultado\n",
      "\n",
      "\n"
     ]
    },
    {
     "data": {
      "text/plain": [
       "[(datetime.date(2021, 2, 12), 'RanbirS00614606'),\n",
       " (datetime.date(2021, 2, 13), 'MaanDee08215437'),\n",
       " (datetime.date(2021, 2, 14), 'rebelpacifist'),\n",
       " (datetime.date(2021, 2, 15), 'jot__b'),\n",
       " (datetime.date(2021, 2, 16), 'jot__b'),\n",
       " (datetime.date(2021, 2, 17), 'RaaJVinderkaur'),\n",
       " (datetime.date(2021, 2, 18), 'neetuanjle_nitu'),\n",
       " (datetime.date(2021, 2, 19), 'Preetm91'),\n",
       " (datetime.date(2021, 2, 20), 'MangalJ23056160'),\n",
       " (datetime.date(2021, 2, 23), 'Surrypuria')]"
      ]
     },
     "execution_count": 5,
     "metadata": {},
     "output_type": "execute_result"
    }
   ],
   "source": [
    "q1_time(data_procesor)"
   ]
  },
  {
   "cell_type": "markdown",
   "metadata": {},
   "source": [
    "* **Llamado funcion de optimización de memoria**"
   ]
  },
  {
   "cell_type": "code",
   "execution_count": 6,
   "metadata": {},
   "outputs": [
    {
     "name": "stdout",
     "output_type": "stream",
     "text": [
      "Duracion : 8.239078283309937 --\n",
      "Filename: c:\\Users\\andre\\Documents\\latam-challenge\\src\\Parte_I\\q1_memory.py\n",
      "\n",
      "Line #    Mem usage    Increment  Occurrences   Line Contents\n",
      "=============================================================\n",
      "     8   1398.1 MiB   1398.1 MiB           1   @profile\n",
      "     9                                         def q1_memory(data_procesor: DataProcessor) -> List[Tuple[datetime.date, str]]:\n",
      "    10                                             \"\"\"\n",
      "    11                                             Procesa los datos del archivo especificado utilizando el metodo \n",
      "    12                                             (process_data_1_memory) de la clase (DataProcessor).\n",
      "    13                                         \n",
      "    14                                             Args:\n",
      "    15                                                 ruta_archivo (str): Ruta al archivo JSON que contiene los datos a procesar.\n",
      "    16                                         \n",
      "    17                                             Returns:\n",
      "    18                                                 List[Tuple[datetime.date, str]]: Una lista de tuplas.\n",
      "    19                                         \n",
      "    20                                             \"\"\"\n",
      "    21                                             \n",
      "    22   1398.1 MiB      0.0 MiB           1       tiempo_inicial = time()  # Registrar el tiempo inicial antes de procesar los datos\n",
      "    23   1401.1 MiB      3.1 MiB           1       resultado = data_procesor.process_data_1_memory() # Llamar al metodo para procesar los datos\n",
      "    24   1401.1 MiB      0.0 MiB           1       data_procesor.determinate_duration(tiempo_inicial)  # Medir y mostrar el tiempo de procesamiento\n",
      "    25                                         \n",
      "    26   1401.1 MiB      0.0 MiB           1       return resultado\n",
      "\n",
      "\n"
     ]
    },
    {
     "data": {
      "text/plain": [
       "[(datetime.date(2021, 2, 12), 'RanbirS00614606'),\n",
       " (datetime.date(2021, 2, 13), 'MaanDee08215437'),\n",
       " (datetime.date(2021, 2, 17), 'RaaJVinderkaur'),\n",
       " (datetime.date(2021, 2, 16), 'jot__b'),\n",
       " (datetime.date(2021, 2, 14), 'rebelpacifist'),\n",
       " (datetime.date(2021, 2, 18), 'neetuanjle_nitu'),\n",
       " (datetime.date(2021, 2, 15), 'jot__b'),\n",
       " (datetime.date(2021, 2, 20), 'MangalJ23056160'),\n",
       " (datetime.date(2021, 2, 23), 'Surrypuria'),\n",
       " (datetime.date(2021, 2, 19), 'Preetm91')]"
      ]
     },
     "execution_count": 6,
     "metadata": {},
     "output_type": "execute_result"
    }
   ],
   "source": [
    "q1_memory(data_procesor)"
   ]
  },
  {
   "cell_type": "markdown",
   "metadata": {
    "tags": []
   },
   "source": [
    "#####-----------------------------------------------------------------------------------####\n",
    "####\n",
    "PARTE II\n",
    "---------\n",
    "Uso de los modulos o dependecias importados para la ejecucion de la parte 2:\n",
    "\n",
    "Descripcion:\n",
    "\n",
    " * ***q2_memory*** :  Funcion encargada de ejecutar el proceso enfocado en la optimización de memoria.\n",
    "\n",
    " * ***q2_time***   :  Funcion encargada de ejecutar el proceso enfocado en la optimización del tiempo.\n",
    "\n",
    "####\n",
    "#####-----------------------------------------------------------------------------------####"
   ]
  },
  {
   "cell_type": "markdown",
   "metadata": {},
   "source": [
    " * **Llamado funcion de optimización de tiempo**"
   ]
  },
  {
   "cell_type": "code",
   "execution_count": 7,
   "metadata": {},
   "outputs": [
    {
     "name": "stdout",
     "output_type": "stream",
     "text": [
      "Duracion : 12.219993591308594 --\n",
      "Filename: c:\\Users\\andre\\Documents\\latam-challenge\\src\\Parte_II\\q2_time.py\n",
      "\n",
      "Line #    Mem usage    Increment  Occurrences   Line Contents\n",
      "=============================================================\n",
      "     9   1401.1 MiB   1401.1 MiB           1   @profile\n",
      "    10                                         def q2_time(data_procesor: DataProcessor) -> List[Tuple[datetime.date, str]]:\n",
      "    11                                             \"\"\"\n",
      "    12                                             Procesa los datos del archivo especificado utilizando el metodo \n",
      "    13                                             (read_data_part2_time) de la clase (DataProcessor).\n",
      "    14                                         \n",
      "    15                                             Args:\n",
      "    16                                                 ruta_archivo (str): Ruta al archivo JSON que contiene los datos a procesar.\n",
      "    17                                         \n",
      "    18                                             Returns:\n",
      "    19                                                 List[Tuple[datetime.date, str]]: Una lista de tuplas.\n",
      "    20                                         \n",
      "    21                                             \"\"\"\n",
      "    22                                         \n",
      "    23   1401.1 MiB      0.0 MiB           1       tiempo_inicial = time()  # Registrar el tiempo inicial antes de procesar los datos\n",
      "    24   1409.3 MiB      8.1 MiB           1       resultado = data_procesor.read_data_part2_time() # Llamar al metodo para procesar los datos\n",
      "    25   1409.3 MiB      0.0 MiB           1       data_procesor.determinate_duration(tiempo_inicial) # Medir y mostrar el tiempo de procesamiento\n",
      "    26                                          \n",
      "    27   1409.3 MiB      0.0 MiB           1       return resultado\n",
      "\n",
      "\n"
     ]
    },
    {
     "data": {
      "text/plain": [
       "[('🙏', 7286),\n",
       " ('😂', 3072),\n",
       " ('🚜', 2972),\n",
       " ('✊', 2411),\n",
       " ('🌾', 2363),\n",
       " ('🏻', 2080),\n",
       " ('❤', 1779),\n",
       " ('🤣', 1668),\n",
       " ('🏽', 1218),\n",
       " ('👇', 1108)]"
      ]
     },
     "execution_count": 7,
     "metadata": {},
     "output_type": "execute_result"
    }
   ],
   "source": [
    "q2_time(data_procesor)"
   ]
  },
  {
   "cell_type": "markdown",
   "metadata": {},
   "source": [
    "* **Llamado funcion de optimización de memoria**"
   ]
  },
  {
   "cell_type": "code",
   "execution_count": 8,
   "metadata": {},
   "outputs": [
    {
     "name": "stdout",
     "output_type": "stream",
     "text": [
      "Duracion : 21.516995429992676 --\n",
      "Filename: c:\\Users\\andre\\Documents\\latam-challenge\\src\\Parte_II\\q2_memory.py\n",
      "\n",
      "Line #    Mem usage    Increment  Occurrences   Line Contents\n",
      "=============================================================\n",
      "     9   1409.3 MiB   1409.3 MiB           1   @profile\n",
      "    10                                         def q2_memory(data_procesor: DataProcessor) -> List[Tuple[datetime.date, str]]:\n",
      "    11                                             \"\"\"\n",
      "    12                                             Procesa los datos del archivo especificado utilizando el metodo \n",
      "    13                                             (read_data_part2_memory) de la clase (DataProcessor).\n",
      "    14                                         \n",
      "    15                                             Args:\n",
      "    16                                                 data_procesor (DataProcessor): Clase principal qque contiene toda la logica.\n",
      "    17                                         \n",
      "    18                                             Returns:\n",
      "    19                                                 List[Tuple[datetime.date, str]]: Una lista de tuplas.\n",
      "    20                                         \n",
      "    21                                             \"\"\"\n",
      "    22                                         \n",
      "    23   1409.3 MiB      0.0 MiB           1       tiempo_inicial = time()  # Registrar el tiempo inicial antes de procesar los datos\n",
      "    24   1408.5 MiB     -0.7 MiB           1       resultado = data_procesor.read_data_part2_memory() # Llamar al metodo para procesar los datos\n",
      "    25   1408.5 MiB      0.0 MiB           1       data_procesor.determinate_duration(tiempo_inicial) # Medir y mostrar el tiempo de procesamiento\n",
      "    26                                          \n",
      "    27   1408.5 MiB      0.0 MiB           1       return resultado\n",
      "\n",
      "\n"
     ]
    },
    {
     "data": {
      "text/plain": [
       "[('🙏', 7286),\n",
       " ('😂', 3072),\n",
       " ('🚜', 2972),\n",
       " ('✊', 2411),\n",
       " ('🌾', 2363),\n",
       " ('🏻', 2080),\n",
       " ('❤', 1779),\n",
       " ('🤣', 1668),\n",
       " ('🏽', 1218),\n",
       " ('👇', 1108)]"
      ]
     },
     "execution_count": 8,
     "metadata": {},
     "output_type": "execute_result"
    }
   ],
   "source": [
    "q2_memory(data_procesor)"
   ]
  },
  {
   "cell_type": "markdown",
   "metadata": {},
   "source": [
    "* Llamado funcion Procesamiento de datos basado en el 2 requerimiento."
   ]
  },
  {
   "cell_type": "markdown",
   "metadata": {},
   "source": [
    "#####-----------------------------------------------------------------------------------####\n",
    "####\n",
    "PARTE III\n",
    "---------\n",
    "IMPORTACIÓN DE DEPENDENCIAS O LIBRERIAS QUE SE REQUIEREN PARA LA PRIMERA PARTE DEL PROCESO:\n",
    "\n",
    "Descripcion:\n",
    "\n",
    " * ***q3_memory*** :  Funcion encargada de ejecutar el proceso enfocado en la optimización de memoria.\n",
    "\n",
    " * ***q3_time***   :  Funcion encargada de ejecutar el proceso enfocado en la optimización del tiempo.\n",
    "\n",
    "####\n",
    "#####-----------------------------------------------------------------------------------####"
   ]
  },
  {
   "cell_type": "markdown",
   "metadata": {},
   "source": [
    " * **Llamado funcion de optimización de tiempo**"
   ]
  },
  {
   "cell_type": "code",
   "execution_count": 9,
   "metadata": {},
   "outputs": [
    {
     "name": "stdout",
     "output_type": "stream",
     "text": [
      "Duracion : 1.141991376876831 --\n",
      "Filename: c:\\Users\\andre\\Documents\\latam-challenge\\src\\Parte_III\\q3_time.py\n",
      "\n",
      "Line #    Mem usage    Increment  Occurrences   Line Contents\n",
      "=============================================================\n",
      "     9   1408.5 MiB   1408.5 MiB           1   @profile\n",
      "    10                                         def q3_time(data_procesor: DataProcessor) -> List[Tuple[datetime.date, str]]:\n",
      "    11                                             \"\"\"\n",
      "    12                                             Procesa los datos del archivo especificado utilizando el metodo \n",
      "    13                                             (read_data_part3_time) de la clase (DataProcessor).\n",
      "    14                                         \n",
      "    15                                             Args:\n",
      "    16                                                 ruta_archivo (str): Ruta al archivo JSON que contiene los datos a procesar.\n",
      "    17                                         \n",
      "    18                                             Returns:\n",
      "    19                                                 List[Tuple[datetime.date, str]]: Una lista de tuplas.\n",
      "    20                                         \n",
      "    21                                             \"\"\"\n",
      "    22                                         \n",
      "    23   1408.5 MiB      0.0 MiB           1       tiempo_inicial = time()  # Registrar el tiempo inicial antes de procesar los datos\n",
      "    24   1411.5 MiB      3.0 MiB           1       resultado = data_procesor.read_data_part3_time() # Llamar al metodo para procesar los datos\n",
      "    25   1411.5 MiB      0.0 MiB           1       data_procesor.determinate_duration(tiempo_inicial) # Medir y mostrar el tiempo de procesamiento\n",
      "    26                                          \n",
      "    27   1411.5 MiB      0.0 MiB           1       return resultado\n",
      "\n",
      "\n"
     ]
    },
    {
     "data": {
      "text/plain": [
       "[('narendramodi', 2265),\n",
       " ('Kisanektamorcha', 1840),\n",
       " ('RakeshTikaitBKU', 1644),\n",
       " ('PMOIndia', 1427),\n",
       " ('RahulGandhi', 1146),\n",
       " ('GretaThunberg', 1048),\n",
       " ('RaviSinghKA', 1019),\n",
       " ('rihanna', 986),\n",
       " ('UNHumanRights', 962),\n",
       " ('meenaharris', 926)]"
      ]
     },
     "execution_count": 9,
     "metadata": {},
     "output_type": "execute_result"
    }
   ],
   "source": [
    "q3_time(data_procesor) "
   ]
  },
  {
   "cell_type": "markdown",
   "metadata": {},
   "source": [
    " * **Llamado funcion de optimización de tiempo**"
   ]
  },
  {
   "cell_type": "code",
   "execution_count": 10,
   "metadata": {},
   "outputs": [
    {
     "name": "stdout",
     "output_type": "stream",
     "text": [
      "Duracion : 9.019992589950562 --\n",
      "Filename: c:\\Users\\andre\\Documents\\latam-challenge\\src\\Parte_III\\q3_memory.py\n",
      "\n",
      "Line #    Mem usage    Increment  Occurrences   Line Contents\n",
      "=============================================================\n",
      "     8   1411.6 MiB   1411.6 MiB           1   @profile\n",
      "     9                                         def q3_memory(data_procesor: DataProcessor) -> List[Tuple[datetime.date, str]]:\n",
      "    10                                             \"\"\"\n",
      "    11                                             Procesa los datos del archivo especificado utilizando el metodo \n",
      "    12                                             (read_data_part3_memory) de la clase (DataProcessor).\n",
      "    13                                         \n",
      "    14                                             Args:\n",
      "    15                                                 data_procesor (DataProcessor): Clase principal qque contiene toda la logica.\n",
      "    16                                         \n",
      "    17                                             Returns:\n",
      "    18                                                 List[Tuple[datetime.date, str]]: Una lista de tuplas.\n",
      "    19                                         \n",
      "    20                                             \"\"\"\n",
      "    21                                         \n",
      "    22   1411.6 MiB      0.0 MiB           1       tiempo_inicial = time()  # Registrar el tiempo inicial antes de procesar los datos\n",
      "    23   1411.7 MiB      0.1 MiB           1       resultado = data_procesor.read_data_part3_memory() # Llamar al metodo para procesar los datos\n",
      "    24   1411.7 MiB      0.0 MiB           1       data_procesor.determinate_duration(tiempo_inicial) # Medir y mostrar el tiempo de procesamiento\n",
      "    25                                          \n",
      "    26   1411.7 MiB      0.0 MiB           1       return resultado\n",
      "\n",
      "\n"
     ]
    },
    {
     "data": {
      "text/plain": [
       "[('narendramodi', 2265),\n",
       " ('Kisanektamorcha', 1840),\n",
       " ('RakeshTikaitBKU', 1644),\n",
       " ('PMOIndia', 1427),\n",
       " ('RahulGandhi', 1146),\n",
       " ('GretaThunberg', 1048),\n",
       " ('RaviSinghKA', 1019),\n",
       " ('rihanna', 986),\n",
       " ('UNHumanRights', 962),\n",
       " ('meenaharris', 926)]"
      ]
     },
     "execution_count": 10,
     "metadata": {},
     "output_type": "execute_result"
    }
   ],
   "source": [
    "q3_memory(data_procesor)"
   ]
  }
 ],
 "metadata": {
  "kernelspec": {
   "display_name": "Python 3",
   "language": "python",
   "name": "python3"
  },
  "language_info": {
   "codemirror_mode": {
    "name": "ipython",
    "version": 3
   },
   "file_extension": ".py",
   "mimetype": "text/x-python",
   "name": "python",
   "nbconvert_exporter": "python",
   "pygments_lexer": "ipython3",
   "version": "3.12.2"
  },
  "orig_nbformat": 4
 },
 "nbformat": 4,
 "nbformat_minor": 2
}
